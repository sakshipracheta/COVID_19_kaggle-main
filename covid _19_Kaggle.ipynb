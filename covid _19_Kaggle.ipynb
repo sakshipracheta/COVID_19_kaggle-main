{
 "cells": [
  {
   "cell_type": "markdown",
   "metadata": {},
   "source": [
    "# Importing libraries"
   ]
  },
  {
   "cell_type": "code",
   "execution_count": 113,
   "metadata": {},
   "outputs": [],
   "source": [
    "import pandas as pd\n",
    "import numpy as np\n",
    "import matplotlib.pyplot as plt\n",
    "import seaborn as sns\n",
    "%matplotlib inline"
   ]
  },
  {
   "cell_type": "markdown",
   "metadata": {},
   "source": [
    "# 1st Data"
   ]
  },
  {
   "cell_type": "markdown",
   "metadata": {},
   "source": [
    "# Fetching the data"
   ]
  },
  {
   "cell_type": "code",
   "execution_count": 3,
   "metadata": {},
   "outputs": [
    {
     "data": {
      "text/html": [
       "<div>\n",
       "<style scoped>\n",
       "    .dataframe tbody tr th:only-of-type {\n",
       "        vertical-align: middle;\n",
       "    }\n",
       "\n",
       "    .dataframe tbody tr th {\n",
       "        vertical-align: top;\n",
       "    }\n",
       "\n",
       "    .dataframe thead th {\n",
       "        text-align: right;\n",
       "    }\n",
       "</style>\n",
       "<table border=\"1\" class=\"dataframe\">\n",
       "  <thead>\n",
       "    <tr style=\"text-align: right;\">\n",
       "      <th></th>\n",
       "      <th>Sno</th>\n",
       "      <th>Date</th>\n",
       "      <th>Time</th>\n",
       "      <th>State/UnionTerritory</th>\n",
       "      <th>ConfirmedIndianNational</th>\n",
       "      <th>ConfirmedForeignNational</th>\n",
       "      <th>Cured</th>\n",
       "      <th>Deaths</th>\n",
       "      <th>Confirmed</th>\n",
       "    </tr>\n",
       "  </thead>\n",
       "  <tbody>\n",
       "    <tr>\n",
       "      <th>16845</th>\n",
       "      <td>16846</td>\n",
       "      <td>2021-07-07</td>\n",
       "      <td>8:00 AM</td>\n",
       "      <td>Telangana</td>\n",
       "      <td>-</td>\n",
       "      <td>-</td>\n",
       "      <td>613124</td>\n",
       "      <td>3703</td>\n",
       "      <td>628282</td>\n",
       "    </tr>\n",
       "    <tr>\n",
       "      <th>16846</th>\n",
       "      <td>16847</td>\n",
       "      <td>2021-07-07</td>\n",
       "      <td>8:00 AM</td>\n",
       "      <td>Tripura</td>\n",
       "      <td>-</td>\n",
       "      <td>-</td>\n",
       "      <td>63964</td>\n",
       "      <td>701</td>\n",
       "      <td>68612</td>\n",
       "    </tr>\n",
       "    <tr>\n",
       "      <th>16847</th>\n",
       "      <td>16848</td>\n",
       "      <td>2021-07-07</td>\n",
       "      <td>8:00 AM</td>\n",
       "      <td>Uttarakhand</td>\n",
       "      <td>-</td>\n",
       "      <td>-</td>\n",
       "      <td>332006</td>\n",
       "      <td>7338</td>\n",
       "      <td>340882</td>\n",
       "    </tr>\n",
       "    <tr>\n",
       "      <th>16848</th>\n",
       "      <td>16849</td>\n",
       "      <td>2021-07-07</td>\n",
       "      <td>8:00 AM</td>\n",
       "      <td>Uttar Pradesh</td>\n",
       "      <td>-</td>\n",
       "      <td>-</td>\n",
       "      <td>1682130</td>\n",
       "      <td>22656</td>\n",
       "      <td>1706818</td>\n",
       "    </tr>\n",
       "    <tr>\n",
       "      <th>16849</th>\n",
       "      <td>16850</td>\n",
       "      <td>2021-07-07</td>\n",
       "      <td>8:00 AM</td>\n",
       "      <td>West Bengal</td>\n",
       "      <td>-</td>\n",
       "      <td>-</td>\n",
       "      <td>1472132</td>\n",
       "      <td>17834</td>\n",
       "      <td>1507241</td>\n",
       "    </tr>\n",
       "  </tbody>\n",
       "</table>\n",
       "</div>"
      ],
      "text/plain": [
       "         Sno        Date     Time State/UnionTerritory  \\\n",
       "16845  16846  2021-07-07  8:00 AM            Telangana   \n",
       "16846  16847  2021-07-07  8:00 AM              Tripura   \n",
       "16847  16848  2021-07-07  8:00 AM          Uttarakhand   \n",
       "16848  16849  2021-07-07  8:00 AM        Uttar Pradesh   \n",
       "16849  16850  2021-07-07  8:00 AM          West Bengal   \n",
       "\n",
       "      ConfirmedIndianNational ConfirmedForeignNational    Cured  Deaths  \\\n",
       "16845                       -                        -   613124    3703   \n",
       "16846                       -                        -    63964     701   \n",
       "16847                       -                        -   332006    7338   \n",
       "16848                       -                        -  1682130   22656   \n",
       "16849                       -                        -  1472132   17834   \n",
       "\n",
       "       Confirmed  \n",
       "16845     628282  \n",
       "16846      68612  \n",
       "16847     340882  \n",
       "16848    1706818  \n",
       "16849    1507241  "
      ]
     },
     "execution_count": 3,
     "metadata": {},
     "output_type": "execute_result"
    }
   ],
   "source": [
    "data1 = pd.read_csv(r\"C:\\Users\\User\\OneDrive\\Desktop\\covid_19_india.csv\")\n",
    "data.tail()"
   ]
  },
  {
   "cell_type": "markdown",
   "metadata": {},
   "source": [
    "# some important information about data"
   ]
  },
  {
   "cell_type": "code",
   "execution_count": 4,
   "metadata": {},
   "outputs": [
    {
     "data": {
      "text/html": [
       "<div>\n",
       "<style scoped>\n",
       "    .dataframe tbody tr th:only-of-type {\n",
       "        vertical-align: middle;\n",
       "    }\n",
       "\n",
       "    .dataframe tbody tr th {\n",
       "        vertical-align: top;\n",
       "    }\n",
       "\n",
       "    .dataframe thead th {\n",
       "        text-align: right;\n",
       "    }\n",
       "</style>\n",
       "<table border=\"1\" class=\"dataframe\">\n",
       "  <thead>\n",
       "    <tr style=\"text-align: right;\">\n",
       "      <th></th>\n",
       "      <th>Sno</th>\n",
       "      <th>Date</th>\n",
       "      <th>Time</th>\n",
       "      <th>State/UnionTerritory</th>\n",
       "      <th>ConfirmedIndianNational</th>\n",
       "      <th>ConfirmedForeignNational</th>\n",
       "      <th>Cured</th>\n",
       "      <th>Deaths</th>\n",
       "      <th>Confirmed</th>\n",
       "    </tr>\n",
       "  </thead>\n",
       "  <tbody>\n",
       "    <tr>\n",
       "      <th>0</th>\n",
       "      <td>1</td>\n",
       "      <td>2020-01-30</td>\n",
       "      <td>6:00 PM</td>\n",
       "      <td>Kerala</td>\n",
       "      <td>1</td>\n",
       "      <td>0</td>\n",
       "      <td>0</td>\n",
       "      <td>0</td>\n",
       "      <td>1</td>\n",
       "    </tr>\n",
       "    <tr>\n",
       "      <th>1</th>\n",
       "      <td>2</td>\n",
       "      <td>2020-01-31</td>\n",
       "      <td>6:00 PM</td>\n",
       "      <td>Kerala</td>\n",
       "      <td>1</td>\n",
       "      <td>0</td>\n",
       "      <td>0</td>\n",
       "      <td>0</td>\n",
       "      <td>1</td>\n",
       "    </tr>\n",
       "    <tr>\n",
       "      <th>2</th>\n",
       "      <td>3</td>\n",
       "      <td>2020-02-01</td>\n",
       "      <td>6:00 PM</td>\n",
       "      <td>Kerala</td>\n",
       "      <td>2</td>\n",
       "      <td>0</td>\n",
       "      <td>0</td>\n",
       "      <td>0</td>\n",
       "      <td>2</td>\n",
       "    </tr>\n",
       "    <tr>\n",
       "      <th>3</th>\n",
       "      <td>4</td>\n",
       "      <td>2020-02-02</td>\n",
       "      <td>6:00 PM</td>\n",
       "      <td>Kerala</td>\n",
       "      <td>3</td>\n",
       "      <td>0</td>\n",
       "      <td>0</td>\n",
       "      <td>0</td>\n",
       "      <td>3</td>\n",
       "    </tr>\n",
       "    <tr>\n",
       "      <th>4</th>\n",
       "      <td>5</td>\n",
       "      <td>2020-02-03</td>\n",
       "      <td>6:00 PM</td>\n",
       "      <td>Kerala</td>\n",
       "      <td>3</td>\n",
       "      <td>0</td>\n",
       "      <td>0</td>\n",
       "      <td>0</td>\n",
       "      <td>3</td>\n",
       "    </tr>\n",
       "  </tbody>\n",
       "</table>\n",
       "</div>"
      ],
      "text/plain": [
       "   Sno        Date     Time State/UnionTerritory ConfirmedIndianNational  \\\n",
       "0    1  2020-01-30  6:00 PM               Kerala                       1   \n",
       "1    2  2020-01-31  6:00 PM               Kerala                       1   \n",
       "2    3  2020-02-01  6:00 PM               Kerala                       2   \n",
       "3    4  2020-02-02  6:00 PM               Kerala                       3   \n",
       "4    5  2020-02-03  6:00 PM               Kerala                       3   \n",
       "\n",
       "  ConfirmedForeignNational  Cured  Deaths  Confirmed  \n",
       "0                        0      0       0          1  \n",
       "1                        0      0       0          1  \n",
       "2                        0      0       0          2  \n",
       "3                        0      0       0          3  \n",
       "4                        0      0       0          3  "
      ]
     },
     "execution_count": 4,
     "metadata": {},
     "output_type": "execute_result"
    }
   ],
   "source": [
    "data.head()"
   ]
  },
  {
   "cell_type": "code",
   "execution_count": 5,
   "metadata": {},
   "outputs": [
    {
     "data": {
      "text/plain": [
       "(16850, 9)"
      ]
     },
     "execution_count": 5,
     "metadata": {},
     "output_type": "execute_result"
    }
   ],
   "source": [
    "data.shape"
   ]
  },
  {
   "cell_type": "code",
   "execution_count": 6,
   "metadata": {},
   "outputs": [
    {
     "name": "stdout",
     "output_type": "stream",
     "text": [
      "<class 'pandas.core.frame.DataFrame'>\n",
      "RangeIndex: 16850 entries, 0 to 16849\n",
      "Data columns (total 9 columns):\n",
      " #   Column                    Non-Null Count  Dtype \n",
      "---  ------                    --------------  ----- \n",
      " 0   Sno                       16850 non-null  int64 \n",
      " 1   Date                      16850 non-null  object\n",
      " 2   Time                      16850 non-null  object\n",
      " 3   State/UnionTerritory      16850 non-null  object\n",
      " 4   ConfirmedIndianNational   16850 non-null  object\n",
      " 5   ConfirmedForeignNational  16850 non-null  object\n",
      " 6   Cured                     16850 non-null  int64 \n",
      " 7   Deaths                    16850 non-null  int64 \n",
      " 8   Confirmed                 16850 non-null  int64 \n",
      "dtypes: int64(4), object(5)\n",
      "memory usage: 1.2+ MB\n"
     ]
    }
   ],
   "source": [
    "data.info()"
   ]
  },
  {
   "cell_type": "code",
   "execution_count": 7,
   "metadata": {},
   "outputs": [
    {
     "data": {
      "text/plain": [
       "Sno                         False\n",
       "Date                        False\n",
       "Time                        False\n",
       "State/UnionTerritory        False\n",
       "ConfirmedIndianNational     False\n",
       "ConfirmedForeignNational    False\n",
       "Cured                       False\n",
       "Deaths                      False\n",
       "Confirmed                   False\n",
       "dtype: bool"
      ]
     },
     "execution_count": 7,
     "metadata": {},
     "output_type": "execute_result"
    }
   ],
   "source": [
    "data.isna().any()"
   ]
  },
  {
   "cell_type": "code",
   "execution_count": 8,
   "metadata": {},
   "outputs": [
    {
     "data": {
      "text/plain": [
       "Sno                         0\n",
       "Date                        0\n",
       "Time                        0\n",
       "State/UnionTerritory        0\n",
       "ConfirmedIndianNational     0\n",
       "ConfirmedForeignNational    0\n",
       "Cured                       0\n",
       "Deaths                      0\n",
       "Confirmed                   0\n",
       "dtype: int64"
      ]
     },
     "execution_count": 8,
     "metadata": {},
     "output_type": "execute_result"
    }
   ],
   "source": [
    "data.isnull().sum()"
   ]
  },
  {
   "cell_type": "code",
   "execution_count": 9,
   "metadata": {},
   "outputs": [
    {
     "data": {
      "text/html": [
       "<div>\n",
       "<style scoped>\n",
       "    .dataframe tbody tr th:only-of-type {\n",
       "        vertical-align: middle;\n",
       "    }\n",
       "\n",
       "    .dataframe tbody tr th {\n",
       "        vertical-align: top;\n",
       "    }\n",
       "\n",
       "    .dataframe thead th {\n",
       "        text-align: right;\n",
       "    }\n",
       "</style>\n",
       "<table border=\"1\" class=\"dataframe\">\n",
       "  <thead>\n",
       "    <tr style=\"text-align: right;\">\n",
       "      <th></th>\n",
       "      <th>Sno</th>\n",
       "      <th>Cured</th>\n",
       "      <th>Deaths</th>\n",
       "      <th>Confirmed</th>\n",
       "    </tr>\n",
       "  </thead>\n",
       "  <tbody>\n",
       "    <tr>\n",
       "      <th>count</th>\n",
       "      <td>16850.000000</td>\n",
       "      <td>1.685000e+04</td>\n",
       "      <td>16850.000000</td>\n",
       "      <td>1.685000e+04</td>\n",
       "    </tr>\n",
       "    <tr>\n",
       "      <th>mean</th>\n",
       "      <td>8425.500000</td>\n",
       "      <td>2.360353e+05</td>\n",
       "      <td>3485.222552</td>\n",
       "      <td>2.583667e+05</td>\n",
       "    </tr>\n",
       "    <tr>\n",
       "      <th>std</th>\n",
       "      <td>4864.320353</td>\n",
       "      <td>5.225438e+05</td>\n",
       "      <td>9330.541749</td>\n",
       "      <td>5.672808e+05</td>\n",
       "    </tr>\n",
       "    <tr>\n",
       "      <th>min</th>\n",
       "      <td>1.000000</td>\n",
       "      <td>0.000000e+00</td>\n",
       "      <td>0.000000</td>\n",
       "      <td>0.000000e+00</td>\n",
       "    </tr>\n",
       "    <tr>\n",
       "      <th>25%</th>\n",
       "      <td>4213.250000</td>\n",
       "      <td>2.658500e+03</td>\n",
       "      <td>22.000000</td>\n",
       "      <td>3.644750e+03</td>\n",
       "    </tr>\n",
       "    <tr>\n",
       "      <th>50%</th>\n",
       "      <td>8425.500000</td>\n",
       "      <td>2.889500e+04</td>\n",
       "      <td>453.000000</td>\n",
       "      <td>3.336150e+04</td>\n",
       "    </tr>\n",
       "    <tr>\n",
       "      <th>75%</th>\n",
       "      <td>12637.750000</td>\n",
       "      <td>2.537510e+05</td>\n",
       "      <td>3071.250000</td>\n",
       "      <td>2.666530e+05</td>\n",
       "    </tr>\n",
       "    <tr>\n",
       "      <th>max</th>\n",
       "      <td>16850.000000</td>\n",
       "      <td>5.872268e+06</td>\n",
       "      <td>123531.000000</td>\n",
       "      <td>6.113335e+06</td>\n",
       "    </tr>\n",
       "  </tbody>\n",
       "</table>\n",
       "</div>"
      ],
      "text/plain": [
       "                Sno         Cured         Deaths     Confirmed\n",
       "count  16850.000000  1.685000e+04   16850.000000  1.685000e+04\n",
       "mean    8425.500000  2.360353e+05    3485.222552  2.583667e+05\n",
       "std     4864.320353  5.225438e+05    9330.541749  5.672808e+05\n",
       "min        1.000000  0.000000e+00       0.000000  0.000000e+00\n",
       "25%     4213.250000  2.658500e+03      22.000000  3.644750e+03\n",
       "50%     8425.500000  2.889500e+04     453.000000  3.336150e+04\n",
       "75%    12637.750000  2.537510e+05    3071.250000  2.666530e+05\n",
       "max    16850.000000  5.872268e+06  123531.000000  6.113335e+06"
      ]
     },
     "execution_count": 9,
     "metadata": {},
     "output_type": "execute_result"
    }
   ],
   "source": [
    "data.describe()"
   ]
  },
  {
   "cell_type": "code",
   "execution_count": 10,
   "metadata": {},
   "outputs": [
    {
     "data": {
      "text/plain": [
       "Index(['Sno', 'Date', 'Time', 'State/UnionTerritory',\n",
       "       'ConfirmedIndianNational', 'ConfirmedForeignNational', 'Cured',\n",
       "       'Deaths', 'Confirmed'],\n",
       "      dtype='object')"
      ]
     },
     "execution_count": 10,
     "metadata": {},
     "output_type": "execute_result"
    }
   ],
   "source": [
    "data.columns"
   ]
  },
  {
   "cell_type": "code",
   "execution_count": 11,
   "metadata": {},
   "outputs": [],
   "source": [
    "data.drop(\"Sno\",axis=1,inplace=True)"
   ]
  },
  {
   "cell_type": "code",
   "execution_count": 12,
   "metadata": {},
   "outputs": [
    {
     "data": {
      "text/plain": [
       "Kerala                                      525\n",
       "Delhi                                       493\n",
       "Rajasthan                                   492\n",
       "Haryana                                     491\n",
       "Uttar Pradesh                               491\n",
       "Tamil Nadu                                  488\n",
       "Ladakh                                      488\n",
       "Punjab                                      486\n",
       "Maharashtra                                 486\n",
       "Karnataka                                   486\n",
       "Jammu and Kashmir                           486\n",
       "Andhra Pradesh                              483\n",
       "Uttarakhand                                 480\n",
       "Odisha                                      479\n",
       "West Bengal                                 477\n",
       "Puducherry                                  477\n",
       "Chhattisgarh                                476\n",
       "Chandigarh                                  476\n",
       "Gujarat                                     475\n",
       "Himachal Pradesh                            474\n",
       "Madhya Pradesh                              474\n",
       "Bihar                                       471\n",
       "Manipur                                     471\n",
       "Mizoram                                     470\n",
       "Andaman and Nicobar Islands                 469\n",
       "Goa                                         469\n",
       "Assam                                       463\n",
       "Jharkhand                                   463\n",
       "Arunachal Pradesh                           461\n",
       "Tripura                                     457\n",
       "Meghalaya                                   450\n",
       "Telengana                                   426\n",
       "Dadra and Nagar Haveli and Daman and Diu    426\n",
       "Nagaland                                    417\n",
       "Sikkim                                      410\n",
       "Lakshadweep                                 209\n",
       "Telangana                                    67\n",
       "Cases being reassigned to states             60\n",
       "Unassigned                                    3\n",
       "Bihar****                                     2\n",
       "Dadra and Nagar Haveli                        2\n",
       "Daman & Diu                                   1\n",
       "Name: State/UnionTerritory, dtype: int64"
      ]
     },
     "execution_count": 12,
     "metadata": {},
     "output_type": "execute_result"
    }
   ],
   "source": [
    "data[\"State/UnionTerritory\"].value_counts()"
   ]
  },
  {
   "cell_type": "markdown",
   "metadata": {},
   "source": [
    "# EDA(Exploratory data analysis)"
   ]
  },
  {
   "cell_type": "code",
   "execution_count": 13,
   "metadata": {},
   "outputs": [
    {
     "data": {
      "text/plain": [
       "<AxesSubplot:>"
      ]
     },
     "execution_count": 13,
     "metadata": {},
     "output_type": "execute_result"
    },
    {
     "data": {
      "image/png": "[encoded data removed]",
      "text/plain": [
       "<Figure size 432x288 with 2 Axes>"
      ]
     },
     "metadata": {
      "needs_background": "light"
     },
     "output_type": "display_data"
    }
   ],
   "source": [
    "sns.heatmap(data.corr(),annot=True)\n"
   ]
  },
  {
   "cell_type": "code",
   "execution_count": 104,
   "metadata": {},
   "outputs": [
    {
     "data": {
      "image/png": "[encoded data removed]",
      "text/plain": [
       "<Figure size 432x288 with 1 Axes>"
      ]
     },
     "metadata": {
      "needs_background": "light"
     },
     "output_type": "display_data"
    }
   ],
   "source": [
    "plt.plot(data[\"Date\"],data[\"Deaths\"],color='blue',linestyle = 'solid')\n",
    "plt.show()\n"
   ]
  },
  {
   "cell_type": "code",
   "execution_count": 28,
   "metadata": {},
   "outputs": [
    {
     "data": {
      "image/png": "[encoded data removed]",
      "text/plain": [
       "<Figure size 432x288 with 1 Axes>"
      ]
     },
     "metadata": {},
     "output_type": "display_data"
    }
   ],
   "source": [
    "plt.pie(data[\"State/UnionTerritory\"].value_counts())\n",
    "#plt.legend()\n",
    "plt.show()"
   ]
  },
  {
   "cell_type": "code",
   "execution_count": 108,
   "metadata": {},
   "outputs": [
    {
     "data": {
      "text/plain": [
       "Text(0.5, 0, 'date')"
      ]
     },
     "execution_count": 108,
     "metadata": {},
     "output_type": "execute_result"
    },
    {
     "data": {
      "image/png": "[encoded data removed]",
      "text/plain": [
       "<Figure size 432x288 with 1 Axes>"
      ]
     },
     "metadata": {
      "needs_background": "light"
     },
     "output_type": "display_data"
    }
   ],
   "source": [
    "plt.bar(data[\"Date\"],data[\"Confirmed\"],color=\"green\",width=0.1)\n",
    "plt.xlabel(\"date\")\n"
   ]
  },
  {
   "cell_type": "code",
   "execution_count": null,
   "metadata": {},
   "outputs": [],
   "source": []
  },
  {
   "cell_type": "code",
   "execution_count": null,
   "metadata": {},
   "outputs": [],
   "source": []
  },
  {
   "cell_type": "markdown",
   "metadata": {},
   "source": [
    "# 2nd data"
   ]
  },
  {
   "cell_type": "markdown",
   "metadata": {},
   "source": [
    "# Fetching the data"
   ]
  },
  {
   "cell_type": "code",
   "execution_count": 41,
   "metadata": {},
   "outputs": [
    {
     "data": {
      "text/html": [
       "<div>\n",
       "<style scoped>\n",
       "    .dataframe tbody tr th:only-of-type {\n",
       "        vertical-align: middle;\n",
       "    }\n",
       "\n",
       "    .dataframe tbody tr th {\n",
       "        vertical-align: top;\n",
       "    }\n",
       "\n",
       "    .dataframe thead th {\n",
       "        text-align: right;\n",
       "    }\n",
       "</style>\n",
       "<table border=\"1\" class=\"dataframe\">\n",
       "  <thead>\n",
       "    <tr style=\"text-align: right;\">\n",
       "      <th></th>\n",
       "      <th>Updated On</th>\n",
       "      <th>State</th>\n",
       "      <th>Total Doses Administered</th>\n",
       "      <th>Total Sessions Conducted</th>\n",
       "      <th>Total Sites</th>\n",
       "      <th>First Dose Administered</th>\n",
       "      <th>Second Dose Administered</th>\n",
       "      <th>Male(Individuals Vaccinated)</th>\n",
       "      <th>Female(Individuals Vaccinated)</th>\n",
       "      <th>Transgender(Individuals Vaccinated)</th>\n",
       "      <th>Total Covaxin Administered</th>\n",
       "      <th>Total CoviShield Administered</th>\n",
       "      <th>Total Sputnik V Administered</th>\n",
       "      <th>AEFI</th>\n",
       "      <th>18-45 years (Age)</th>\n",
       "      <th>45-60 years (Age)</th>\n",
       "      <th>60+ years (Age)</th>\n",
       "      <th>Total Individuals Vaccinated</th>\n",
       "    </tr>\n",
       "  </thead>\n",
       "  <tbody>\n",
       "    <tr>\n",
       "      <th>0</th>\n",
       "      <td>16/01/2021</td>\n",
       "      <td>India</td>\n",
       "      <td>48276.0</td>\n",
       "      <td>3455.0</td>\n",
       "      <td>2957.0</td>\n",
       "      <td>48276.0</td>\n",
       "      <td>0.0</td>\n",
       "      <td>23757.0</td>\n",
       "      <td>24517.0</td>\n",
       "      <td>2.0</td>\n",
       "      <td>579.0</td>\n",
       "      <td>47697.0</td>\n",
       "      <td>NaN</td>\n",
       "      <td>NaN</td>\n",
       "      <td>NaN</td>\n",
       "      <td>NaN</td>\n",
       "      <td>NaN</td>\n",
       "      <td>48276.0</td>\n",
       "    </tr>\n",
       "    <tr>\n",
       "      <th>1</th>\n",
       "      <td>17/01/2021</td>\n",
       "      <td>India</td>\n",
       "      <td>58604.0</td>\n",
       "      <td>8532.0</td>\n",
       "      <td>4954.0</td>\n",
       "      <td>58604.0</td>\n",
       "      <td>0.0</td>\n",
       "      <td>27348.0</td>\n",
       "      <td>31252.0</td>\n",
       "      <td>4.0</td>\n",
       "      <td>635.0</td>\n",
       "      <td>57969.0</td>\n",
       "      <td>NaN</td>\n",
       "      <td>NaN</td>\n",
       "      <td>NaN</td>\n",
       "      <td>NaN</td>\n",
       "      <td>NaN</td>\n",
       "      <td>58604.0</td>\n",
       "    </tr>\n",
       "    <tr>\n",
       "      <th>2</th>\n",
       "      <td>18/01/2021</td>\n",
       "      <td>India</td>\n",
       "      <td>99449.0</td>\n",
       "      <td>13611.0</td>\n",
       "      <td>6583.0</td>\n",
       "      <td>99449.0</td>\n",
       "      <td>0.0</td>\n",
       "      <td>41361.0</td>\n",
       "      <td>58083.0</td>\n",
       "      <td>5.0</td>\n",
       "      <td>1299.0</td>\n",
       "      <td>98150.0</td>\n",
       "      <td>NaN</td>\n",
       "      <td>NaN</td>\n",
       "      <td>NaN</td>\n",
       "      <td>NaN</td>\n",
       "      <td>NaN</td>\n",
       "      <td>99449.0</td>\n",
       "    </tr>\n",
       "    <tr>\n",
       "      <th>3</th>\n",
       "      <td>19/01/2021</td>\n",
       "      <td>India</td>\n",
       "      <td>195525.0</td>\n",
       "      <td>17855.0</td>\n",
       "      <td>7951.0</td>\n",
       "      <td>195525.0</td>\n",
       "      <td>0.0</td>\n",
       "      <td>81901.0</td>\n",
       "      <td>113613.0</td>\n",
       "      <td>11.0</td>\n",
       "      <td>3017.0</td>\n",
       "      <td>192508.0</td>\n",
       "      <td>NaN</td>\n",
       "      <td>NaN</td>\n",
       "      <td>NaN</td>\n",
       "      <td>NaN</td>\n",
       "      <td>NaN</td>\n",
       "      <td>195525.0</td>\n",
       "    </tr>\n",
       "    <tr>\n",
       "      <th>4</th>\n",
       "      <td>20/01/2021</td>\n",
       "      <td>India</td>\n",
       "      <td>251280.0</td>\n",
       "      <td>25472.0</td>\n",
       "      <td>10504.0</td>\n",
       "      <td>251280.0</td>\n",
       "      <td>0.0</td>\n",
       "      <td>98111.0</td>\n",
       "      <td>153145.0</td>\n",
       "      <td>24.0</td>\n",
       "      <td>3946.0</td>\n",
       "      <td>247334.0</td>\n",
       "      <td>NaN</td>\n",
       "      <td>NaN</td>\n",
       "      <td>NaN</td>\n",
       "      <td>NaN</td>\n",
       "      <td>NaN</td>\n",
       "      <td>251280.0</td>\n",
       "    </tr>\n",
       "  </tbody>\n",
       "</table>\n",
       "</div>"
      ],
      "text/plain": [
       "   Updated On  State  Total Doses Administered  Total Sessions Conducted  \\\n",
       "0  16/01/2021  India                   48276.0                    3455.0   \n",
       "1  17/01/2021  India                   58604.0                    8532.0   \n",
       "2  18/01/2021  India                   99449.0                   13611.0   \n",
       "3  19/01/2021  India                  195525.0                   17855.0   \n",
       "4  20/01/2021  India                  251280.0                   25472.0   \n",
       "\n",
       "   Total Sites   First Dose Administered  Second Dose Administered  \\\n",
       "0        2957.0                  48276.0                       0.0   \n",
       "1        4954.0                  58604.0                       0.0   \n",
       "2        6583.0                  99449.0                       0.0   \n",
       "3        7951.0                 195525.0                       0.0   \n",
       "4       10504.0                 251280.0                       0.0   \n",
       "\n",
       "   Male(Individuals Vaccinated)  Female(Individuals Vaccinated)  \\\n",
       "0                       23757.0                         24517.0   \n",
       "1                       27348.0                         31252.0   \n",
       "2                       41361.0                         58083.0   \n",
       "3                       81901.0                        113613.0   \n",
       "4                       98111.0                        153145.0   \n",
       "\n",
       "   Transgender(Individuals Vaccinated)  Total Covaxin Administered  \\\n",
       "0                                  2.0                       579.0   \n",
       "1                                  4.0                       635.0   \n",
       "2                                  5.0                      1299.0   \n",
       "3                                 11.0                      3017.0   \n",
       "4                                 24.0                      3946.0   \n",
       "\n",
       "   Total CoviShield Administered  Total Sputnik V Administered  AEFI  \\\n",
       "0                        47697.0                           NaN   NaN   \n",
       "1                        57969.0                           NaN   NaN   \n",
       "2                        98150.0                           NaN   NaN   \n",
       "3                       192508.0                           NaN   NaN   \n",
       "4                       247334.0                           NaN   NaN   \n",
       "\n",
       "   18-45 years (Age)  45-60 years (Age)  60+ years (Age)  \\\n",
       "0                NaN                NaN              NaN   \n",
       "1                NaN                NaN              NaN   \n",
       "2                NaN                NaN              NaN   \n",
       "3                NaN                NaN              NaN   \n",
       "4                NaN                NaN              NaN   \n",
       "\n",
       "   Total Individuals Vaccinated  \n",
       "0                       48276.0  \n",
       "1                       58604.0  \n",
       "2                       99449.0  \n",
       "3                      195525.0  \n",
       "4                      251280.0  "
      ]
     },
     "execution_count": 41,
     "metadata": {},
     "output_type": "execute_result"
    }
   ],
   "source": [
    "data2=pd.read_csv(r\"C:\\Users\\User\\OneDrive\\Desktop\\covid_vaccine_statewise.csv\")\n",
    "data2.head()"
   ]
  },
  {
   "cell_type": "markdown",
   "metadata": {},
   "source": [
    "# Getting some important information about data"
   ]
  },
  {
   "cell_type": "code",
   "execution_count": 42,
   "metadata": {},
   "outputs": [
    {
     "name": "stdout",
     "output_type": "stream",
     "text": [
      "<class 'pandas.core.frame.DataFrame'>\n",
      "RangeIndex: 6699 entries, 0 to 6698\n",
      "Data columns (total 18 columns):\n",
      " #   Column                               Non-Null Count  Dtype  \n",
      "---  ------                               --------------  -----  \n",
      " 0   Updated On                           6699 non-null   object \n",
      " 1   State                                6699 non-null   object \n",
      " 2   Total Doses Administered             6364 non-null   float64\n",
      " 3   Total Sessions Conducted             6363 non-null   float64\n",
      " 4   Total Sites                          6363 non-null   float64\n",
      " 5   First Dose Administered              6363 non-null   float64\n",
      " 6   Second Dose Administered             6363 non-null   float64\n",
      " 7   Male(Individuals Vaccinated)         6363 non-null   float64\n",
      " 8   Female(Individuals Vaccinated)       6363 non-null   float64\n",
      " 9   Transgender(Individuals Vaccinated)  6363 non-null   float64\n",
      " 10  Total Covaxin Administered           6363 non-null   float64\n",
      " 11  Total CoviShield Administered        6363 non-null   float64\n",
      " 12  Total Sputnik V Administered         1737 non-null   float64\n",
      " 13  AEFI                                 4180 non-null   float64\n",
      " 14  18-45 years (Age)                    4177 non-null   float64\n",
      " 15  45-60 years (Age)                    4178 non-null   float64\n",
      " 16  60+ years (Age)                      4178 non-null   float64\n",
      " 17  Total Individuals Vaccinated         6363 non-null   float64\n",
      "dtypes: float64(16), object(2)\n",
      "memory usage: 942.2+ KB\n"
     ]
    }
   ],
   "source": [
    "data2.info()"
   ]
  },
  {
   "cell_type": "code",
   "execution_count": 44,
   "metadata": {},
   "outputs": [
    {
     "data": {
      "text/plain": [
       "(6699, 18)"
      ]
     },
     "execution_count": 44,
     "metadata": {},
     "output_type": "execute_result"
    }
   ],
   "source": [
    "data2.shape"
   ]
  },
  {
   "cell_type": "code",
   "execution_count": 45,
   "metadata": {},
   "outputs": [
    {
     "data": {
      "text/html": [
       "<div>\n",
       "<style scoped>\n",
       "    .dataframe tbody tr th:only-of-type {\n",
       "        vertical-align: middle;\n",
       "    }\n",
       "\n",
       "    .dataframe tbody tr th {\n",
       "        vertical-align: top;\n",
       "    }\n",
       "\n",
       "    .dataframe thead th {\n",
       "        text-align: right;\n",
       "    }\n",
       "</style>\n",
       "<table border=\"1\" class=\"dataframe\">\n",
       "  <thead>\n",
       "    <tr style=\"text-align: right;\">\n",
       "      <th></th>\n",
       "      <th>Total Doses Administered</th>\n",
       "      <th>Total Sessions Conducted</th>\n",
       "      <th>Total Sites</th>\n",
       "      <th>First Dose Administered</th>\n",
       "      <th>Second Dose Administered</th>\n",
       "      <th>Male(Individuals Vaccinated)</th>\n",
       "      <th>Female(Individuals Vaccinated)</th>\n",
       "      <th>Transgender(Individuals Vaccinated)</th>\n",
       "      <th>Total Covaxin Administered</th>\n",
       "      <th>Total CoviShield Administered</th>\n",
       "      <th>Total Sputnik V Administered</th>\n",
       "      <th>AEFI</th>\n",
       "      <th>18-45 years (Age)</th>\n",
       "      <th>45-60 years (Age)</th>\n",
       "      <th>60+ years (Age)</th>\n",
       "      <th>Total Individuals Vaccinated</th>\n",
       "    </tr>\n",
       "  </thead>\n",
       "  <tbody>\n",
       "    <tr>\n",
       "      <th>count</th>\n",
       "      <td>6.364000e+03</td>\n",
       "      <td>6.363000e+03</td>\n",
       "      <td>6363.000000</td>\n",
       "      <td>6.363000e+03</td>\n",
       "      <td>6.363000e+03</td>\n",
       "      <td>6.363000e+03</td>\n",
       "      <td>6.363000e+03</td>\n",
       "      <td>6363.000000</td>\n",
       "      <td>6.363000e+03</td>\n",
       "      <td>6.363000e+03</td>\n",
       "      <td>1737.000000</td>\n",
       "      <td>4180.000000</td>\n",
       "      <td>4.177000e+03</td>\n",
       "      <td>4.178000e+03</td>\n",
       "      <td>4.178000e+03</td>\n",
       "      <td>6.363000e+03</td>\n",
       "    </tr>\n",
       "    <tr>\n",
       "      <th>mean</th>\n",
       "      <td>6.413310e+06</td>\n",
       "      <td>3.957716e+05</td>\n",
       "      <td>2360.343549</td>\n",
       "      <td>5.254151e+06</td>\n",
       "      <td>1.160167e+06</td>\n",
       "      <td>2.919990e+06</td>\n",
       "      <td>2.568098e+06</td>\n",
       "      <td>835.393368</td>\n",
       "      <td>6.928136e+05</td>\n",
       "      <td>5.707424e+06</td>\n",
       "      <td>2066.254462</td>\n",
       "      <td>1073.564833</td>\n",
       "      <td>1.955834e+06</td>\n",
       "      <td>3.275439e+06</td>\n",
       "      <td>2.887759e+06</td>\n",
       "      <td>5.265380e+06</td>\n",
       "    </tr>\n",
       "    <tr>\n",
       "      <th>std</th>\n",
       "      <td>2.615880e+07</td>\n",
       "      <td>1.656387e+06</td>\n",
       "      <td>7508.979436</td>\n",
       "      <td>2.132565e+07</td>\n",
       "      <td>4.882363e+06</td>\n",
       "      <td>1.225694e+07</td>\n",
       "      <td>1.064744e+07</td>\n",
       "      <td>3737.993697</td>\n",
       "      <td>2.991176e+06</td>\n",
       "      <td>2.319046e+07</td>\n",
       "      <td>9614.132634</td>\n",
       "      <td>3246.612821</td>\n",
       "      <td>8.448696e+06</td>\n",
       "      <td>1.095290e+07</td>\n",
       "      <td>9.204842e+06</td>\n",
       "      <td>2.132828e+07</td>\n",
       "    </tr>\n",
       "    <tr>\n",
       "      <th>min</th>\n",
       "      <td>0.000000e+00</td>\n",
       "      <td>0.000000e+00</td>\n",
       "      <td>0.000000</td>\n",
       "      <td>7.000000e+00</td>\n",
       "      <td>0.000000e+00</td>\n",
       "      <td>0.000000e+00</td>\n",
       "      <td>2.000000e+00</td>\n",
       "      <td>0.000000</td>\n",
       "      <td>0.000000e+00</td>\n",
       "      <td>7.000000e+00</td>\n",
       "      <td>0.000000</td>\n",
       "      <td>0.000000</td>\n",
       "      <td>1.059000e+03</td>\n",
       "      <td>1.136000e+03</td>\n",
       "      <td>5.580000e+02</td>\n",
       "      <td>7.000000e+00</td>\n",
       "    </tr>\n",
       "    <tr>\n",
       "      <th>25%</th>\n",
       "      <td>9.749425e+04</td>\n",
       "      <td>4.498000e+03</td>\n",
       "      <td>70.500000</td>\n",
       "      <td>8.277550e+04</td>\n",
       "      <td>6.405500e+03</td>\n",
       "      <td>4.299600e+04</td>\n",
       "      <td>3.760850e+04</td>\n",
       "      <td>4.000000</td>\n",
       "      <td>0.000000e+00</td>\n",
       "      <td>9.561450e+04</td>\n",
       "      <td>0.000000</td>\n",
       "      <td>94.000000</td>\n",
       "      <td>6.454900e+04</td>\n",
       "      <td>1.017950e+05</td>\n",
       "      <td>6.404975e+04</td>\n",
       "      <td>8.277550e+04</td>\n",
       "    </tr>\n",
       "    <tr>\n",
       "      <th>50%</th>\n",
       "      <td>5.369145e+05</td>\n",
       "      <td>2.588400e+04</td>\n",
       "      <td>616.000000</td>\n",
       "      <td>4.589680e+05</td>\n",
       "      <td>7.715800e+04</td>\n",
       "      <td>2.581390e+05</td>\n",
       "      <td>2.392390e+05</td>\n",
       "      <td>69.000000</td>\n",
       "      <td>4.760000e+03</td>\n",
       "      <td>4.989140e+05</td>\n",
       "      <td>0.000000</td>\n",
       "      <td>283.000000</td>\n",
       "      <td>3.382580e+05</td>\n",
       "      <td>9.198940e+05</td>\n",
       "      <td>8.211470e+05</td>\n",
       "      <td>4.705490e+05</td>\n",
       "    </tr>\n",
       "    <tr>\n",
       "      <th>75%</th>\n",
       "      <td>4.872305e+06</td>\n",
       "      <td>2.613895e+05</td>\n",
       "      <td>1790.000000</td>\n",
       "      <td>4.119336e+06</td>\n",
       "      <td>7.264175e+05</td>\n",
       "      <td>2.203892e+06</td>\n",
       "      <td>1.961909e+06</td>\n",
       "      <td>562.000000</td>\n",
       "      <td>4.669140e+05</td>\n",
       "      <td>4.258910e+06</td>\n",
       "      <td>79.000000</td>\n",
       "      <td>716.000000</td>\n",
       "      <td>1.068349e+06</td>\n",
       "      <td>2.727498e+06</td>\n",
       "      <td>2.533357e+06</td>\n",
       "      <td>4.119336e+06</td>\n",
       "    </tr>\n",
       "    <tr>\n",
       "      <th>max</th>\n",
       "      <td>3.561929e+08</td>\n",
       "      <td>3.501031e+07</td>\n",
       "      <td>73933.000000</td>\n",
       "      <td>2.901329e+08</td>\n",
       "      <td>6.606008e+07</td>\n",
       "      <td>1.911604e+08</td>\n",
       "      <td>1.649711e+08</td>\n",
       "      <td>61451.000000</td>\n",
       "      <td>4.401880e+07</td>\n",
       "      <td>3.120454e+08</td>\n",
       "      <td>128733.000000</td>\n",
       "      <td>23960.000000</td>\n",
       "      <td>1.361586e+08</td>\n",
       "      <td>1.229163e+08</td>\n",
       "      <td>9.711800e+07</td>\n",
       "      <td>2.901329e+08</td>\n",
       "    </tr>\n",
       "  </tbody>\n",
       "</table>\n",
       "</div>"
      ],
      "text/plain": [
       "       Total Doses Administered  Total Sessions Conducted  Total Sites   \\\n",
       "count              6.364000e+03              6.363000e+03   6363.000000   \n",
       "mean               6.413310e+06              3.957716e+05   2360.343549   \n",
       "std                2.615880e+07              1.656387e+06   7508.979436   \n",
       "min                0.000000e+00              0.000000e+00      0.000000   \n",
       "25%                9.749425e+04              4.498000e+03     70.500000   \n",
       "50%                5.369145e+05              2.588400e+04    616.000000   \n",
       "75%                4.872305e+06              2.613895e+05   1790.000000   \n",
       "max                3.561929e+08              3.501031e+07  73933.000000   \n",
       "\n",
       "       First Dose Administered  Second Dose Administered  \\\n",
       "count             6.363000e+03              6.363000e+03   \n",
       "mean              5.254151e+06              1.160167e+06   \n",
       "std               2.132565e+07              4.882363e+06   \n",
       "min               7.000000e+00              0.000000e+00   \n",
       "25%               8.277550e+04              6.405500e+03   \n",
       "50%               4.589680e+05              7.715800e+04   \n",
       "75%               4.119336e+06              7.264175e+05   \n",
       "max               2.901329e+08              6.606008e+07   \n",
       "\n",
       "       Male(Individuals Vaccinated)  Female(Individuals Vaccinated)  \\\n",
       "count                  6.363000e+03                    6.363000e+03   \n",
       "mean                   2.919990e+06                    2.568098e+06   \n",
       "std                    1.225694e+07                    1.064744e+07   \n",
       "min                    0.000000e+00                    2.000000e+00   \n",
       "25%                    4.299600e+04                    3.760850e+04   \n",
       "50%                    2.581390e+05                    2.392390e+05   \n",
       "75%                    2.203892e+06                    1.961909e+06   \n",
       "max                    1.911604e+08                    1.649711e+08   \n",
       "\n",
       "       Transgender(Individuals Vaccinated)  Total Covaxin Administered  \\\n",
       "count                          6363.000000                6.363000e+03   \n",
       "mean                            835.393368                6.928136e+05   \n",
       "std                            3737.993697                2.991176e+06   \n",
       "min                               0.000000                0.000000e+00   \n",
       "25%                               4.000000                0.000000e+00   \n",
       "50%                              69.000000                4.760000e+03   \n",
       "75%                             562.000000                4.669140e+05   \n",
       "max                           61451.000000                4.401880e+07   \n",
       "\n",
       "       Total CoviShield Administered  Total Sputnik V Administered  \\\n",
       "count                   6.363000e+03                   1737.000000   \n",
       "mean                    5.707424e+06                   2066.254462   \n",
       "std                     2.319046e+07                   9614.132634   \n",
       "min                     7.000000e+00                      0.000000   \n",
       "25%                     9.561450e+04                      0.000000   \n",
       "50%                     4.989140e+05                      0.000000   \n",
       "75%                     4.258910e+06                     79.000000   \n",
       "max                     3.120454e+08                 128733.000000   \n",
       "\n",
       "               AEFI  18-45 years (Age)  45-60 years (Age)  60+ years (Age)  \\\n",
       "count   4180.000000       4.177000e+03       4.178000e+03     4.178000e+03   \n",
       "mean    1073.564833       1.955834e+06       3.275439e+06     2.887759e+06   \n",
       "std     3246.612821       8.448696e+06       1.095290e+07     9.204842e+06   \n",
       "min        0.000000       1.059000e+03       1.136000e+03     5.580000e+02   \n",
       "25%       94.000000       6.454900e+04       1.017950e+05     6.404975e+04   \n",
       "50%      283.000000       3.382580e+05       9.198940e+05     8.211470e+05   \n",
       "75%      716.000000       1.068349e+06       2.727498e+06     2.533357e+06   \n",
       "max    23960.000000       1.361586e+08       1.229163e+08     9.711800e+07   \n",
       "\n",
       "       Total Individuals Vaccinated  \n",
       "count                  6.363000e+03  \n",
       "mean                   5.265380e+06  \n",
       "std                    2.132828e+07  \n",
       "min                    7.000000e+00  \n",
       "25%                    8.277550e+04  \n",
       "50%                    4.705490e+05  \n",
       "75%                    4.119336e+06  \n",
       "max                    2.901329e+08  "
      ]
     },
     "execution_count": 45,
     "metadata": {},
     "output_type": "execute_result"
    }
   ],
   "source": [
    "data2.describe()"
   ]
  },
  {
   "cell_type": "code",
   "execution_count": 47,
   "metadata": {},
   "outputs": [
    {
     "data": {
      "text/plain": [
       "Updated On                              0.00\n",
       "State                                   0.00\n",
       "Total Doses Administered                3.35\n",
       "Total Sessions Conducted                3.36\n",
       "Total Sites                             3.36\n",
       "First Dose Administered                 3.36\n",
       "Second Dose Administered                3.36\n",
       "Male(Individuals Vaccinated)            3.36\n",
       "Female(Individuals Vaccinated)          3.36\n",
       "Transgender(Individuals Vaccinated)     3.36\n",
       "Total Covaxin Administered              3.36\n",
       "Total CoviShield Administered           3.36\n",
       "Total Sputnik V Administered           49.62\n",
       "AEFI                                   25.19\n",
       "18-45 years (Age)                      25.22\n",
       "45-60 years (Age)                      25.21\n",
       "60+ years (Age)                        25.21\n",
       "Total Individuals Vaccinated            3.36\n",
       "dtype: float64"
      ]
     },
     "execution_count": 47,
     "metadata": {},
     "output_type": "execute_result"
    }
   ],
   "source": [
    "data2.isnull().sum()/100"
   ]
  },
  {
   "cell_type": "code",
   "execution_count": 51,
   "metadata": {},
   "outputs": [
    {
     "data": {
      "text/plain": [
       "Index(['Updated On', 'State', 'Total Doses Administered',\n",
       "       'Total Sessions Conducted', 'Total Sites ', 'First Dose Administered',\n",
       "       'Second Dose Administered', 'Male(Individuals Vaccinated)',\n",
       "       'Female(Individuals Vaccinated)', 'Transgender(Individuals Vaccinated)',\n",
       "       'Total Covaxin Administered', 'Total CoviShield Administered',\n",
       "       'Total Sputnik V Administered', 'AEFI', '18-45 years (Age)',\n",
       "       '45-60 years (Age)', '60+ years (Age)', 'Total Individuals Vaccinated'],\n",
       "      dtype='object')"
      ]
     },
     "execution_count": 51,
     "metadata": {},
     "output_type": "execute_result"
    }
   ],
   "source": [
    "data2.columns"
   ]
  },
  {
   "cell_type": "markdown",
   "metadata": {},
   "source": [
    "# EDA(Exploratory data analysis)"
   ]
  },
  {
   "cell_type": "code",
   "execution_count": 111,
   "metadata": {},
   "outputs": [
    {
     "data": {
      "text/plain": [
       "Text(0.5, 0, 'date')"
      ]
     },
     "execution_count": 111,
     "metadata": {},
     "output_type": "execute_result"
    },
    {
     "data": {
      "image/png": "[encoded data removed]",
      "text/plain": [
       "<Figure size 432x288 with 1 Axes>"
      ]
     },
     "metadata": {
      "needs_background": "light"
     },
     "output_type": "display_data"
    }
   ],
   "source": [
    "plt.bar(data2[\"Updated On\"],data2[\"Total Individuals Vaccinated\"],color=\"green\",width=0.1)\n",
    "plt.xlabel(\"date\")\n"
   ]
  },
  {
   "cell_type": "code",
   "execution_count": null,
   "metadata": {},
   "outputs": [],
   "source": []
  },
  {
   "cell_type": "code",
   "execution_count": null,
   "metadata": {},
   "outputs": [],
   "source": []
  },
  {
   "cell_type": "code",
   "execution_count": null,
   "metadata": {},
   "outputs": [],
   "source": []
  },
  {
   "cell_type": "markdown",
   "metadata": {},
   "source": [
    "# 3rd data"
   ]
  },
  {
   "cell_type": "markdown",
   "metadata": {},
   "source": [
    "# Get the data"
   ]
  },
  {
   "cell_type": "code",
   "execution_count": 78,
   "metadata": {},
   "outputs": [
    {
     "data": {
      "text/html": [
       "<div>\n",
       "<style scoped>\n",
       "    .dataframe tbody tr th:only-of-type {\n",
       "        vertical-align: middle;\n",
       "    }\n",
       "\n",
       "    .dataframe tbody tr th {\n",
       "        vertical-align: top;\n",
       "    }\n",
       "\n",
       "    .dataframe thead th {\n",
       "        text-align: right;\n",
       "    }\n",
       "</style>\n",
       "<table border=\"1\" class=\"dataframe\">\n",
       "  <thead>\n",
       "    <tr style=\"text-align: right;\">\n",
       "      <th></th>\n",
       "      <th>Date</th>\n",
       "      <th>State</th>\n",
       "      <th>TotalSamples</th>\n",
       "      <th>Negative</th>\n",
       "      <th>Positive</th>\n",
       "    </tr>\n",
       "  </thead>\n",
       "  <tbody>\n",
       "    <tr>\n",
       "      <th>15108</th>\n",
       "      <td>2021-07-02</td>\n",
       "      <td>West Bengal</td>\n",
       "      <td>14325099.0</td>\n",
       "      <td>NaN</td>\n",
       "      <td>NaN</td>\n",
       "    </tr>\n",
       "    <tr>\n",
       "      <th>15109</th>\n",
       "      <td>2021-07-03</td>\n",
       "      <td>West Bengal</td>\n",
       "      <td>14377860.0</td>\n",
       "      <td>NaN</td>\n",
       "      <td>NaN</td>\n",
       "    </tr>\n",
       "    <tr>\n",
       "      <th>15110</th>\n",
       "      <td>2021-07-04</td>\n",
       "      <td>West Bengal</td>\n",
       "      <td>14430084.0</td>\n",
       "      <td>NaN</td>\n",
       "      <td>NaN</td>\n",
       "    </tr>\n",
       "    <tr>\n",
       "      <th>15111</th>\n",
       "      <td>2021-07-05</td>\n",
       "      <td>West Bengal</td>\n",
       "      <td>14470472.0</td>\n",
       "      <td>NaN</td>\n",
       "      <td>NaN</td>\n",
       "    </tr>\n",
       "    <tr>\n",
       "      <th>15112</th>\n",
       "      <td>2021-07-06</td>\n",
       "      <td>West Bengal</td>\n",
       "      <td>14516751.0</td>\n",
       "      <td>NaN</td>\n",
       "      <td>NaN</td>\n",
       "    </tr>\n",
       "  </tbody>\n",
       "</table>\n",
       "</div>"
      ],
      "text/plain": [
       "             Date        State  TotalSamples Negative  Positive\n",
       "15108  2021-07-02  West Bengal    14325099.0      NaN       NaN\n",
       "15109  2021-07-03  West Bengal    14377860.0      NaN       NaN\n",
       "15110  2021-07-04  West Bengal    14430084.0      NaN       NaN\n",
       "15111  2021-07-05  West Bengal    14470472.0      NaN       NaN\n",
       "15112  2021-07-06  West Bengal    14516751.0      NaN       NaN"
      ]
     },
     "execution_count": 78,
     "metadata": {},
     "output_type": "execute_result"
    }
   ],
   "source": [
    "data3=pd.read_csv(r\"C:\\Users\\User\\OneDrive\\Desktop\\StatewiseTestingDetails.csv\")\n",
    "data3.tail()\n"
   ]
  },
  {
   "cell_type": "markdown",
   "metadata": {},
   "source": [
    "# Some imp info about data"
   ]
  },
  {
   "cell_type": "code",
   "execution_count": 79,
   "metadata": {},
   "outputs": [
    {
     "name": "stdout",
     "output_type": "stream",
     "text": [
      "<class 'pandas.core.frame.DataFrame'>\n",
      "RangeIndex: 15113 entries, 0 to 15112\n",
      "Data columns (total 5 columns):\n",
      " #   Column        Non-Null Count  Dtype  \n",
      "---  ------        --------------  -----  \n",
      " 0   Date          15113 non-null  object \n",
      " 1   State         15113 non-null  object \n",
      " 2   TotalSamples  15113 non-null  float64\n",
      " 3   Negative      6657 non-null   object \n",
      " 4   Positive      5589 non-null   float64\n",
      "dtypes: float64(2), object(3)\n",
      "memory usage: 590.5+ KB\n"
     ]
    }
   ],
   "source": [
    "data3.info()"
   ]
  },
  {
   "cell_type": "code",
   "execution_count": 80,
   "metadata": {},
   "outputs": [
    {
     "data": {
      "text/plain": [
       "Index(['Date', 'State', 'TotalSamples', 'Negative', 'Positive'], dtype='object')"
      ]
     },
     "execution_count": 80,
     "metadata": {},
     "output_type": "execute_result"
    }
   ],
   "source": [
    "data3.columns"
   ]
  },
  {
   "cell_type": "code",
   "execution_count": 81,
   "metadata": {},
   "outputs": [
    {
     "data": {
      "text/plain": [
       "(15113, 5)"
      ]
     },
     "execution_count": 81,
     "metadata": {},
     "output_type": "execute_result"
    }
   ],
   "source": [
    "data3.shape"
   ]
  },
  {
   "cell_type": "code",
   "execution_count": 82,
   "metadata": {},
   "outputs": [
    {
     "data": {
      "text/html": [
       "<div>\n",
       "<style scoped>\n",
       "    .dataframe tbody tr th:only-of-type {\n",
       "        vertical-align: middle;\n",
       "    }\n",
       "\n",
       "    .dataframe tbody tr th {\n",
       "        vertical-align: top;\n",
       "    }\n",
       "\n",
       "    .dataframe thead th {\n",
       "        text-align: right;\n",
       "    }\n",
       "</style>\n",
       "<table border=\"1\" class=\"dataframe\">\n",
       "  <thead>\n",
       "    <tr style=\"text-align: right;\">\n",
       "      <th></th>\n",
       "      <th>TotalSamples</th>\n",
       "      <th>Positive</th>\n",
       "    </tr>\n",
       "  </thead>\n",
       "  <tbody>\n",
       "    <tr>\n",
       "      <th>count</th>\n",
       "      <td>1.511300e+04</td>\n",
       "      <td>5.589000e+03</td>\n",
       "    </tr>\n",
       "    <tr>\n",
       "      <th>mean</th>\n",
       "      <td>4.675773e+06</td>\n",
       "      <td>5.444224e+04</td>\n",
       "    </tr>\n",
       "    <tr>\n",
       "      <th>std</th>\n",
       "      <td>7.606151e+06</td>\n",
       "      <td>1.647919e+05</td>\n",
       "    </tr>\n",
       "    <tr>\n",
       "      <th>min</th>\n",
       "      <td>5.800000e+01</td>\n",
       "      <td>0.000000e+00</td>\n",
       "    </tr>\n",
       "    <tr>\n",
       "      <th>25%</th>\n",
       "      <td>1.436260e+05</td>\n",
       "      <td>5.210000e+02</td>\n",
       "    </tr>\n",
       "    <tr>\n",
       "      <th>50%</th>\n",
       "      <td>7.701740e+05</td>\n",
       "      <td>4.595000e+03</td>\n",
       "    </tr>\n",
       "    <tr>\n",
       "      <th>75%</th>\n",
       "      <td>6.414658e+06</td>\n",
       "      <td>3.335200e+04</td>\n",
       "    </tr>\n",
       "    <tr>\n",
       "      <th>max</th>\n",
       "      <td>5.933166e+07</td>\n",
       "      <td>1.638961e+06</td>\n",
       "    </tr>\n",
       "  </tbody>\n",
       "</table>\n",
       "</div>"
      ],
      "text/plain": [
       "       TotalSamples      Positive\n",
       "count  1.511300e+04  5.589000e+03\n",
       "mean   4.675773e+06  5.444224e+04\n",
       "std    7.606151e+06  1.647919e+05\n",
       "min    5.800000e+01  0.000000e+00\n",
       "25%    1.436260e+05  5.210000e+02\n",
       "50%    7.701740e+05  4.595000e+03\n",
       "75%    6.414658e+06  3.335200e+04\n",
       "max    5.933166e+07  1.638961e+06"
      ]
     },
     "execution_count": 82,
     "metadata": {},
     "output_type": "execute_result"
    }
   ],
   "source": [
    "data3.describe()"
   ]
  },
  {
   "cell_type": "code",
   "execution_count": 83,
   "metadata": {},
   "outputs": [
    {
     "data": {
      "text/plain": [
       "Date               0\n",
       "State              0\n",
       "TotalSamples       0\n",
       "Negative        8456\n",
       "Positive        9524\n",
       "dtype: int64"
      ]
     },
     "execution_count": 83,
     "metadata": {},
     "output_type": "execute_result"
    }
   ],
   "source": [
    "data3.isnull().sum()"
   ]
  },
  {
   "cell_type": "code",
   "execution_count": 84,
   "metadata": {},
   "outputs": [
    {
     "data": {
      "text/plain": [
       "Date             0.00\n",
       "State            0.00\n",
       "TotalSamples     0.00\n",
       "Negative        84.56\n",
       "Positive        95.24\n",
       "dtype: float64"
      ]
     },
     "execution_count": 84,
     "metadata": {},
     "output_type": "execute_result"
    }
   ],
   "source": [
    "data3.isnull().sum()/100"
   ]
  },
  {
   "cell_type": "code",
   "execution_count": 85,
   "metadata": {},
   "outputs": [
    {
     "data": {
      "text/plain": [
       "0    1\n",
       "dtype: int64"
      ]
     },
     "execution_count": 85,
     "metadata": {},
     "output_type": "execute_result"
    }
   ],
   "source": [
    "data3[\"Positive\"].value_counts().mode()"
   ]
  },
  {
   "cell_type": "code",
   "execution_count": 88,
   "metadata": {},
   "outputs": [
    {
     "data": {
      "text/plain": [
       "0    1\n",
       "dtype: int64"
      ]
     },
     "execution_count": 88,
     "metadata": {},
     "output_type": "execute_result"
    }
   ],
   "source": [
    "data3[\"Negative\"].value_counts().mode()"
   ]
  },
  {
   "cell_type": "code",
   "execution_count": 93,
   "metadata": {},
   "outputs": [],
   "source": [
    "data3.fillna(value=1, method=None, axis=1, inplace=True)\n"
   ]
  },
  {
   "cell_type": "code",
   "execution_count": 94,
   "metadata": {},
   "outputs": [
    {
     "data": {
      "text/plain": [
       "Date            0\n",
       "State           0\n",
       "TotalSamples    0\n",
       "Negative        0\n",
       "Positive        0\n",
       "dtype: int64"
      ]
     },
     "execution_count": 94,
     "metadata": {},
     "output_type": "execute_result"
    }
   ],
   "source": [
    "data3.isnull().sum()"
   ]
  },
  {
   "cell_type": "code",
   "execution_count": 97,
   "metadata": {},
   "outputs": [
    {
     "data": {
      "text/html": [
       "<div>\n",
       "<style scoped>\n",
       "    .dataframe tbody tr th:only-of-type {\n",
       "        vertical-align: middle;\n",
       "    }\n",
       "\n",
       "    .dataframe tbody tr th {\n",
       "        vertical-align: top;\n",
       "    }\n",
       "\n",
       "    .dataframe thead th {\n",
       "        text-align: right;\n",
       "    }\n",
       "</style>\n",
       "<table border=\"1\" class=\"dataframe\">\n",
       "  <thead>\n",
       "    <tr style=\"text-align: right;\">\n",
       "      <th></th>\n",
       "      <th>Date</th>\n",
       "      <th>State</th>\n",
       "      <th>TotalSamples</th>\n",
       "      <th>Negative</th>\n",
       "      <th>Positive</th>\n",
       "    </tr>\n",
       "  </thead>\n",
       "  <tbody>\n",
       "    <tr>\n",
       "      <th>15108</th>\n",
       "      <td>2021-07-02</td>\n",
       "      <td>West Bengal</td>\n",
       "      <td>14325099.0</td>\n",
       "      <td>1</td>\n",
       "      <td>1.0</td>\n",
       "    </tr>\n",
       "    <tr>\n",
       "      <th>15109</th>\n",
       "      <td>2021-07-03</td>\n",
       "      <td>West Bengal</td>\n",
       "      <td>14377860.0</td>\n",
       "      <td>1</td>\n",
       "      <td>1.0</td>\n",
       "    </tr>\n",
       "    <tr>\n",
       "      <th>15110</th>\n",
       "      <td>2021-07-04</td>\n",
       "      <td>West Bengal</td>\n",
       "      <td>14430084.0</td>\n",
       "      <td>1</td>\n",
       "      <td>1.0</td>\n",
       "    </tr>\n",
       "    <tr>\n",
       "      <th>15111</th>\n",
       "      <td>2021-07-05</td>\n",
       "      <td>West Bengal</td>\n",
       "      <td>14470472.0</td>\n",
       "      <td>1</td>\n",
       "      <td>1.0</td>\n",
       "    </tr>\n",
       "    <tr>\n",
       "      <th>15112</th>\n",
       "      <td>2021-07-06</td>\n",
       "      <td>West Bengal</td>\n",
       "      <td>14516751.0</td>\n",
       "      <td>1</td>\n",
       "      <td>1.0</td>\n",
       "    </tr>\n",
       "  </tbody>\n",
       "</table>\n",
       "</div>"
      ],
      "text/plain": [
       "             Date        State  TotalSamples Negative  Positive\n",
       "15108  2021-07-02  West Bengal    14325099.0        1       1.0\n",
       "15109  2021-07-03  West Bengal    14377860.0        1       1.0\n",
       "15110  2021-07-04  West Bengal    14430084.0        1       1.0\n",
       "15111  2021-07-05  West Bengal    14470472.0        1       1.0\n",
       "15112  2021-07-06  West Bengal    14516751.0        1       1.0"
      ]
     },
     "execution_count": 97,
     "metadata": {},
     "output_type": "execute_result"
    }
   ],
   "source": [
    "data3.tail()"
   ]
  },
  {
   "cell_type": "code",
   "execution_count": 98,
   "metadata": {},
   "outputs": [
    {
     "data": {
      "text/plain": [
       "1          8456\n",
       "14698         3\n",
       "37004         3\n",
       "39008         3\n",
       "26000         3\n",
       "           ... \n",
       "3792098       1\n",
       "5443032       1\n",
       "149002        1\n",
       "347523        1\n",
       "26552         1\n",
       "Name: Negative, Length: 6587, dtype: int64"
      ]
     },
     "execution_count": 98,
     "metadata": {},
     "output_type": "execute_result"
    }
   ],
   "source": [
    "data3[\"Negative\"].value_counts()"
   ]
  },
  {
   "cell_type": "markdown",
   "metadata": {},
   "source": [
    "# EDA(Exploratory data analysis)"
   ]
  },
  {
   "cell_type": "code",
   "execution_count": null,
   "metadata": {},
   "outputs": [],
   "source": [
    "\n",
    "plt.bar(data3[\"Date\"],data3[\"Positive\"])\n",
    "plt.xlabel(\"date\")\n"
   ]
  },
  {
   "cell_type": "code",
   "execution_count": null,
   "metadata": {},
   "outputs": [],
   "source": []
  }
 ],
 "metadata": {
  "kernelspec": {
   "display_name": "Python 3",
   "language": "python",
   "name": "python3"
  },
  "language_info": {
   "codemirror_mode": {
    "name": "ipython",
    "version": 3
   },
   "file_extension": ".py",
   "mimetype": "text/x-python",
   "name": "python",
   "nbconvert_exporter": "python",
   "pygments_lexer": "ipython3",
   "version": "3.8.5"
  }
 },
 "nbformat": 4,
 "nbformat_minor": 4
}
